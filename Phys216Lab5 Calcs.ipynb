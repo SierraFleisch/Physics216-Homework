{
 "cells": [
  {
   "cell_type": "markdown",
   "id": "0a6e6625",
   "metadata": {},
   "source": [
    "# Lab5 Ballistic Pendulum Calculations"
   ]
  },
  {
   "cell_type": "markdown",
   "id": "970f622c",
   "metadata": {},
   "source": [
    "Method 2"
   ]
  },
  {
   "cell_type": "code",
   "execution_count": 13,
   "id": "bd312da7",
   "metadata": {},
   "outputs": [
    {
     "name": "stdout",
     "output_type": "stream",
     "text": [
      "error= 0.002643610365260536\n"
     ]
    }
   ],
   "source": [
    "import numpy as np\n",
    "#vi=x(g^1/2)(2y)^1/2\n",
    "def rule_4(Q,m,n,dA,A,dB,B):\n",
    "    dQ=Q*(np.sqrt(((((m*dA)/(A))**2))+(2*((n*dB)/(B))**2)))\n",
    "    return dQ\n",
    "#x:A,m\n",
    "#y:B,n\n",
    "Q=4.75\n",
    "m=1\n",
    "n=-0.5\n",
    "dA=0.0005\n",
    "A=2.1369\n",
    "dB=7.07e-4\n",
    "B=0.990\n",
    "\n",
    "dx=rule_4(Q,m,n,dA,A,dB,B)\n",
    "print ('error=',dx)\n"
   ]
  },
  {
   "cell_type": "markdown",
   "id": "deef8bce",
   "metadata": {},
   "source": [
    "The error calcuation from the lab = $3.57X10^-3$ m/s. This is not the same as the python error. I am supposing because of a calcualtion error somewhere"
   ]
  },
  {
   "cell_type": "markdown",
   "id": "751033d8",
   "metadata": {},
   "source": [
    "# Python Calcs"
   ]
  },
  {
   "cell_type": "code",
   "execution_count": 17,
   "id": "00e4a682",
   "metadata": {},
   "outputs": [
    {
     "name": "stdout",
     "output_type": "stream",
     "text": [
      "avg= 1.1166666666666667\n",
      "error= 0.073282810879294\n"
     ]
    }
   ],
   "source": [
    "x=np.array([1.1, 1.3, 1.4, 0.9, 0.95, 1.05])\n",
    "avg=np.average(x)\n",
    "print('avg=',avg)\n",
    "\n",
    "sd=np.std(x)\n",
    "err=sd/(np.sqrt(6))\n",
    "print('error=',err)"
   ]
  },
  {
   "cell_type": "markdown",
   "id": "dc36e510",
   "metadata": {},
   "source": [
    "The average of the 6 values is 1.1 and the error is 0.073."
   ]
  },
  {
   "cell_type": "code",
   "execution_count": null,
   "id": "b3d03dc6",
   "metadata": {},
   "outputs": [],
   "source": []
  }
 ],
 "metadata": {
  "kernelspec": {
   "display_name": "Python 3 (ipykernel)",
   "language": "python",
   "name": "python3"
  },
  "language_info": {
   "codemirror_mode": {
    "name": "ipython",
    "version": 3
   },
   "file_extension": ".py",
   "mimetype": "text/x-python",
   "name": "python",
   "nbconvert_exporter": "python",
   "pygments_lexer": "ipython3",
   "version": "3.9.12"
  }
 },
 "nbformat": 4,
 "nbformat_minor": 5
}
